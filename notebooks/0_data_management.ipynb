{
 "cells": [
  {
   "cell_type": "markdown",
   "id": "3fe7c8c5",
   "metadata": {},
   "source": [
    "This initial notebook walks through the steps taken to download the various types of satellite data to be used throughout this project."
   ]
  },
  {
   "cell_type": "code",
   "execution_count": 10,
   "id": "c4dd1de3",
   "metadata": {},
   "outputs": [],
   "source": [
    "# =============================================================================\n",
    "# ### Import libraries and functions\n",
    "# =============================================================================\n",
    "\n",
    "exec(open(\"../code/0_data_management.py\").read())\n",
    "# exec(\"../code/0_data_management.py\")\n",
    "# import \"../0_data_management\""
   ]
  },
  {
   "cell_type": "code",
   "execution_count": 7,
   "id": "7010cda7",
   "metadata": {},
   "outputs": [],
   "source": [
    "# Set matplotlib backend to prevent plots from displaying\n",
    "# mpl.use('module://matplotlib_inline.backend_inline') # To show plots on the Plot panel (be careful as it consumes RAM!)\n",
    "mpl.use('agg') # Prevent showing plot in the Plot panel (this saves RAM)"
   ]
  },
  {
   "cell_type": "code",
   "execution_count": 8,
   "id": "7dfc8674",
   "metadata": {},
   "outputs": [],
   "source": [
    "core_arguments = {  'Data_sources': ['SEXTANT'],\n",
    "                    'Sensor_names':[\"merged\"],\n",
    "                    'Satellite_variables':['CHLA'],\n",
    "                    'Atmospheric_corrections':[\"polymer\"],\n",
    "                    'Temporal_resolution': [\"DAILY\"],\n",
    "                    'start_day' : '2018/08/01',\n",
    "                    'end_day' : '2018/08/31'}"
   ]
  },
  {
   "cell_type": "code",
   "execution_count": null,
   "id": "b5890340",
   "metadata": {},
   "outputs": [
    {
     "name": "stdout",
     "output_type": "stream",
     "text": [
      "0 over 0 (SEXTANT / merged / Standard / CHLA / DAILY)\n",
      "Download report has been saved here : data/DOWNLOAD_REPORTS/2025-09-02_18-51-42.csv\n"
     ]
    }
   ],
   "source": [
    "Download_satellite_data(core_arguments,\n",
    "                                                     nb_of_cores_to_use = 1,\n",
    "                                                     overwrite_existing_satellite_files = False,\n",
    "                                                     where_to_save_satellite_data = \"../data\")\n",
    "\n",
    "# myRIOMAR._0_data_downloading.Plot_and_Save_the_map(core_arguments,\n",
    "#                                                    nb_of_cores_to_use = 6,\n",
    "#                                                    where_are_saved_satellite_data = \"/home/terrats/Desktop/RIOMAR/TEST/SATELLITE_DATA/\",\n",
    "#                                                    start_day_of_maps_to_plot = '2018/08/01',\n",
    "#                                                    end_day_of_maps_to_plot = '2018/08/06')"
   ]
  }
 ],
 "metadata": {
  "language_info": {
   "name": "python"
  }
 },
 "nbformat": 4,
 "nbformat_minor": 5
}
