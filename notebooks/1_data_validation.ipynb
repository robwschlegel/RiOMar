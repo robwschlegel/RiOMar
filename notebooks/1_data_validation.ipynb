{
 "cells": [
  {
   "cell_type": "markdown",
   "id": "3fe7c8c5",
   "metadata": {},
   "source": [
    "Here we walk through the steps for data validation."
   ]
  },
  {
   "cell_type": "code",
   "execution_count": 15,
   "id": "c4dd1de3",
   "metadata": {},
   "outputs": [],
   "source": [
    "# =============================================================================\n",
    "# ### Import libraries and functions\n",
    "# =============================================================================\n",
    "\n",
    "# NB: Each level of script calls the previous one\n",
    "exec(open(\"../code/1_data_validation.py\").read())"
   ]
  },
  {
   "cell_type": "code",
   "execution_count": 10,
   "id": "d81c0617",
   "metadata": {},
   "outputs": [],
   "source": [
    "# Set matplotlib backend to prevent plots from displaying\n",
    "# mpl.use('module://matplotlib_inline.backend_inline') # To show plots on the Plot panel (be careful as it consumes RAM!)\n",
    "mpl.use('agg') # Prevent showing plot in the Plot panel (this saves RAM)"
   ]
  },
  {
   "cell_type": "code",
   "execution_count": 11,
   "id": "7dfc8674",
   "metadata": {},
   "outputs": [],
   "source": [
    "core_arguments = {'Data_sources':['SEXTANT'],\n",
    "                  'Sensor_names':[\"merged\"],\n",
    "                  'Satellite_variables':['CHLA'],\n",
    "                  'Atmospheric_corrections':[\"polymer\"],\n",
    "                  'Temporal_resolution':[\"DAILY\"],\n",
    "                  'start_day':'2018/08/01',\n",
    "                  'end_day':'2018/08/31'}"
   ]
  },
  {
   "cell_type": "code",
   "execution_count": null,
   "id": "b5890340",
   "metadata": {},
   "outputs": [],
   "source": [
    "# NB: Runs on multithread, which does not appear to be supported by Jupyter notebooks\n",
    "# Match_up_with_insitu_measurements(core_arguments,\n",
    "#                                   redo_the_MU_database = True, \n",
    "#                                   nb_of_cores_to_use = 6,\n",
    "#                                   where_to_save_satellite_data = '../data',\n",
    "#                                   where_to_save_Match_Up_data = '../output/MATCH_UP_DATA')"
   ]
  }
 ],
 "metadata": {
  "language_info": {
   "name": "python"
  }
 },
 "nbformat": 4,
 "nbformat_minor": 5
}
