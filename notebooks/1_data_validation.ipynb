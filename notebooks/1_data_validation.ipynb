{
 "cells": [
  {
   "cell_type": "markdown",
   "id": "3fe7c8c5",
   "metadata": {},
   "source": [
    "Here we walk through the steps for data validation."
   ]
  },
  {
   "cell_type": "code",
   "execution_count": 9,
   "id": "c4dd1de3",
   "metadata": {},
   "outputs": [],
   "source": [
    "# =============================================================================\n",
    "# ### Import libraries and functions\n",
    "# =============================================================================\n",
    "\n",
    "# NB: Each level of script calls the previous one\n",
    "exec(open(\"../code/1_data_validation.py\").read())"
   ]
  },
  {
   "cell_type": "code",
   "execution_count": 10,
   "id": "d81c0617",
   "metadata": {},
   "outputs": [],
   "source": [
    "# Set matplotlib backend to prevent plots from displaying\n",
    "# mpl.use('module://matplotlib_inline.backend_inline') # To show plots on the Plot panel (be careful as it consumes RAM!)\n",
    "mpl.use('agg') # Prevent showing plot in the Plot panel (this saves RAM)"
   ]
  },
  {
   "cell_type": "code",
   "execution_count": 11,
   "id": "7dfc8674",
   "metadata": {},
   "outputs": [],
   "source": [
    "core_arguments = {'Data_sources':['SEXTANT'],\n",
    "                  'Sensor_names':[\"merged\"],\n",
    "                  'Satellite_variables':['CHLA'],\n",
    "                  'Atmospheric_corrections':[\"polymer\"],\n",
    "                  'Temporal_resolution':[\"DAILY\"],\n",
    "                  'start_day':'2018/08/01',\n",
    "                  'end_day':'2018/08/31'}"
   ]
  },
  {
   "cell_type": "code",
   "execution_count": null,
   "id": "b5890340",
   "metadata": {},
   "outputs": [
    {
     "ename": "TypeError",
     "evalue": "MU_database_processing.Create_the_MU_database() takes 2 positional arguments but 4 were given",
     "output_type": "error",
     "traceback": [
      "\u001b[0;31m---------------------------------------------------------------------------\u001b[0m\n",
      "\u001b[0;31mTypeError\u001b[0m                                 Traceback (most recent call last)\n",
      "Cell \u001b[0;32mIn[12], line 1\u001b[0m\n",
      "\u001b[0;32m----> 1\u001b[0m \u001b[43mMatch_up_with_insitu_measurements\u001b[49m\u001b[43m(\u001b[49m\u001b[43mcore_arguments\u001b[49m\u001b[43m,\u001b[49m\n",
      "\u001b[1;32m      2\u001b[0m \u001b[43m                                  \u001b[49m\u001b[43mredo_the_MU_database\u001b[49m\u001b[43m \u001b[49m\u001b[38;5;241;43m=\u001b[39;49m\u001b[43m \u001b[49m\u001b[38;5;28;43;01mTrue\u001b[39;49;00m\u001b[43m,\u001b[49m\u001b[43m \u001b[49m\n",
      "\u001b[1;32m      3\u001b[0m \u001b[43m                                  \u001b[49m\u001b[43mnb_of_cores_to_use\u001b[49m\u001b[43m \u001b[49m\u001b[38;5;241;43m=\u001b[39;49m\u001b[43m \u001b[49m\u001b[38;5;241;43m6\u001b[39;49m\u001b[43m,\u001b[49m\n",
      "\u001b[1;32m      4\u001b[0m \u001b[43m                                  \u001b[49m\u001b[43mwhere_to_save_satellite_data\u001b[49m\u001b[43m \u001b[49m\u001b[38;5;241;43m=\u001b[39;49m\u001b[43m \u001b[49m\u001b[38;5;124;43m'\u001b[39;49m\u001b[38;5;124;43m../data\u001b[39;49m\u001b[38;5;124;43m'\u001b[39;49m\u001b[43m,\u001b[49m\n",
      "\u001b[1;32m      5\u001b[0m \u001b[43m                                  \u001b[49m\u001b[43mwhere_to_save_Match_Up_data\u001b[49m\u001b[43m \u001b[49m\u001b[38;5;241;43m=\u001b[39;49m\u001b[43m \u001b[49m\u001b[38;5;124;43m'\u001b[39;49m\u001b[38;5;124;43m../data\u001b[39;49m\u001b[38;5;124;43m'\u001b[39;49m\u001b[43m)\u001b[49m\n",
      "\n",
      "File \u001b[0;32m<string>:452\u001b[0m, in \u001b[0;36mMatch_up_with_insitu_measurements\u001b[0;34m(core_arguments, redo_the_MU_database, nb_of_cores_to_use, where_to_save_satellite_data, where_to_save_Match_Up_data)\u001b[0m\n",
      "\n",
      "\u001b[0;31mTypeError\u001b[0m: MU_database_processing.Create_the_MU_database() takes 2 positional arguments but 4 were given"
     ]
    }
   ],
   "source": [
    "Match_up_with_insitu_measurements(core_arguments,\n",
    "                                  redo_the_MU_database = True, \n",
    "                                  nb_of_cores_to_use = 6,\n",
    "                                  where_to_save_satellite_data = '../data',\n",
    "                                  where_to_save_Match_Up_data = '../output/MATCH_UP_DATA')"
   ]
  },
  {
   "cell_type": "code",
   "execution_count": null,
   "id": "c423dd1f",
   "metadata": {},
   "outputs": [],
   "source": []
  }
 ],
 "metadata": {
  "language_info": {
   "name": "python"
  }
 },
 "nbformat": 4,
 "nbformat_minor": 5
}
