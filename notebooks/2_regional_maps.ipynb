{
 "cells": [
  {
   "cell_type": "markdown",
   "id": "3fe7c8c5",
   "metadata": {},
   "source": [
    "If data have been succesfully downloaded and validated, it's time to make some regional maps."
   ]
  },
  {
   "cell_type": "code",
   "execution_count": null,
   "id": "c4dd1de3",
   "metadata": {},
   "outputs": [],
   "source": [
    "# =============================================================================\n",
    "# ### Import libraries and functions\n",
    "# =============================================================================\n",
    "\n",
    "exec(\"../code/0_data_management.py\")"
   ]
  },
  {
   "cell_type": "code",
   "execution_count": null,
   "id": "7010cda7",
   "metadata": {},
   "outputs": [],
   "source": [
    "# Set matplotlib backend to prevent plots from displaying\n",
    "# mpl.use('module://matplotlib_inline.backend_inline') # To show plots on the Plot panel (be careful as it consumes RAM!)\n",
    "mpl.use('agg') # Prevent showing plot in the Plot panel (this saves RAM)"
   ]
  },
  {
   "cell_type": "code",
   "execution_count": null,
   "id": "7dfc8674",
   "metadata": {},
   "outputs": [],
   "source": [
    "core_arguments = {  'Data_sources': ['SEXTANT'],\n",
    "                    'Sensor_names':[\"merged\"],\n",
    "                    'Satellite_variables':['CHLA'],\n",
    "                    'Atmospheric_corrections':[\"polymer\"],\n",
    "                    'Temporal_resolution': [\"DAILY\"],\n",
    "                    'start_day' : '2018/08/01',\n",
    "                    'end_day' : '2018/08/31'}"
   ]
  },
  {
   "cell_type": "code",
   "execution_count": null,
   "id": "b5890340",
   "metadata": {},
   "outputs": [],
   "source": [
    "myRIOMAR._2_regional_maps.create_regional_maps(arguments.update({'nb_of_cores_to_use' : 4}) or arguments,\n",
    "                                               Zones = ['BAY_OF_BISCAY', 'BAY_OF_SEINE', 'GULF_OF_LION'],\n",
    "                                               overwrite_existing_regional_maps = True,\n",
    "                                               plot_the_daily_regional_maps = False)\n",
    "\n",
    "# myRIOMAR._2_regional_maps.QC_of_regional_maps(arguments.update({'nb_of_cores_to_use' : 4,\n",
    "#                                                                  \"Zones\" : ['BAY_OF_BISCAY']}) or arguments)"
   ]
  }
 ],
 "metadata": {
  "language_info": {
   "name": "python"
  }
 },
 "nbformat": 4,
 "nbformat_minor": 5
}
